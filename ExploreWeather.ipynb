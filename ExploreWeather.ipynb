{
 "cells": [
  {
   "cell_type": "code",
   "execution_count": 15,
   "metadata": {
    "collapsed": false
   },
   "outputs": [
    {
     "data": {
      "text/html": [
       "<script>requirejs.config({paths: { 'plotly': ['https://cdn.plot.ly/plotly-latest.min']},});if(!window.Plotly) {{require(['plotly'],function(plotly) {window.Plotly=plotly;});}}</script>"
      ],
      "text/plain": [
       "<IPython.core.display.HTML object>"
      ]
     },
     "metadata": {},
     "output_type": "display_data"
    }
   ],
   "source": [
    "%matplotlib inline\n",
    "#import csv\n",
    "import pandas as pd\n",
    "import matplotlib.pyplot as plt\n",
    "import numpy as np\n",
    "import matplotlib.dates as mdates\n",
    "import plotly.plotly as py\n",
    "# plotly.tools.set_credentials_file(username='marced', api_key='7meNCtLRU4D2vUuHqCdP')\n",
    "import plotly.graph_objs as go\n",
    "from plotly.graph_objs import *\n",
    "from plotly.offline import download_plotlyjs, init_notebook_mode, plot, iplot\n",
    "init_notebook_mode(connected=True)\n",
    "import plotly.tools as tls\n",
    "import datetime"
   ]
  },
  {
   "cell_type": "code",
   "execution_count": 27,
   "metadata": {
    "collapsed": true
   },
   "outputs": [],
   "source": [
    "HW2=pd.read_csv('data/Trips/201605-hubway-tripdata.csv', delimiter=',', parse_dates=True)\n",
    "wea2 = pd.read_csv('data/weather/weather16.csv', delimiter=',', index_col=[0], parse_dates=True)"
   ]
  },
  {
   "cell_type": "code",
   "execution_count": 31,
   "metadata": {
    "collapsed": false
   },
   "outputs": [
    {
     "data": {
      "text/plain": [
       "Index(['date', 'temp_high', 'temp_avg', 'temp_low', 'hum_high', 'hum_avg',\n",
       "       'hum_low', 'wind_high', 'wind_avg', 'wind_low', 'precip'],\n",
       "      dtype='object')"
      ]
     },
     "execution_count": 31,
     "metadata": {},
     "output_type": "execute_result"
    }
   ],
   "source": [
    "wea2.columns"
   ]
  },
  {
   "cell_type": "code",
   "execution_count": 33,
   "metadata": {
    "collapsed": false
   },
   "outputs": [
    {
     "data": {
      "text/html": [
       "<div>\n",
       "<table border=\"1\" class=\"dataframe\">\n",
       "  <thead>\n",
       "    <tr style=\"text-align: right;\">\n",
       "      <th></th>\n",
       "      <th>temp_avg</th>\n",
       "      <th>hum_avg</th>\n",
       "      <th>wind_avg</th>\n",
       "      <th>date</th>\n",
       "    </tr>\n",
       "  </thead>\n",
       "  <tbody>\n",
       "    <tr>\n",
       "      <th>0</th>\n",
       "      <td>37</td>\n",
       "      <td>58</td>\n",
       "      <td>13</td>\n",
       "      <td>2016-01-01</td>\n",
       "    </tr>\n",
       "    <tr>\n",
       "      <th>1</th>\n",
       "      <td>36</td>\n",
       "      <td>51</td>\n",
       "      <td>13</td>\n",
       "      <td>2016-02-01</td>\n",
       "    </tr>\n",
       "    <tr>\n",
       "      <th>2</th>\n",
       "      <td>38</td>\n",
       "      <td>56</td>\n",
       "      <td>12</td>\n",
       "      <td>2016-03-01</td>\n",
       "    </tr>\n",
       "    <tr>\n",
       "      <th>3</th>\n",
       "      <td>25</td>\n",
       "      <td>61</td>\n",
       "      <td>12</td>\n",
       "      <td>2016-04-01</td>\n",
       "    </tr>\n",
       "    <tr>\n",
       "      <th>4</th>\n",
       "      <td>17</td>\n",
       "      <td>43</td>\n",
       "      <td>10</td>\n",
       "      <td>2016-05-01</td>\n",
       "    </tr>\n",
       "  </tbody>\n",
       "</table>\n",
       "</div>"
      ],
      "text/plain": [
       "   temp_avg  hum_avg  wind_avg        date\n",
       "0        37       58        13  2016-01-01\n",
       "1        36       51        13  2016-02-01\n",
       "2        38       56        12  2016-03-01\n",
       "3        25       61        12  2016-04-01\n",
       "4        17       43        10  2016-05-01"
      ]
     },
     "execution_count": 33,
     "metadata": {},
     "output_type": "execute_result"
    }
   ],
   "source": [
    "wea = pd.concat([wea2[['temp_avg','hum_avg','wind_avg']],\n",
    "                pd.to_datetime(arg = wea2.date).dt.date,\n",
    "                ],axis=1)\n",
    "wea.head()"
   ]
  },
  {
   "cell_type": "code",
   "execution_count": 34,
   "metadata": {
    "collapsed": false
   },
   "outputs": [],
   "source": [
    "c = pd.DataFrame(0, index=np.arange(len(HW2)), columns=['hum','temp','wind'])\n",
    "df = pd.concat([HW2[['gender', 'tripduration','birth year']], \n",
    "                pd.to_datetime(arg = HW2.starttime).dt.hour,\n",
    "                pd.to_datetime(arg = HW2.starttime).dt.date,\n",
    "                c, \n",
    "                HW2['start station name']],axis=1)\n",
    "\n",
    "df.columns = ['gender', 'duration','age','hour','date', 'hum','temp','wind','station']\n",
    "#HW.gender.replace(to_replace=0, value=np.nan,inplace=True)"
   ]
  },
  {
   "cell_type": "code",
   "execution_count": 35,
   "metadata": {
    "collapsed": false
   },
   "outputs": [],
   "source": [
    "df = df[np.isfinite(df['gender'])]\n",
    "df = df[np.isfinite(df['age'])]\n",
    "df = df[df['gender'] != 0]\n",
    "df = df[df['duration'] < 3600*1]\n",
    "df = df[df['duration'] > 4*60]\n",
    "#df = df[np.isfinite(df['usertype'])]"
   ]
  },
  {
   "cell_type": "code",
   "execution_count": 36,
   "metadata": {
    "collapsed": false
   },
   "outputs": [
    {
     "name": "stderr",
     "output_type": "stream",
     "text": [
      "/Users/Marc-Ed/anaconda/lib/python3.6/site-packages/pandas/core/indexing.py:141: SettingWithCopyWarning:\n",
      "\n",
      "\n",
      "A value is trying to be set on a copy of a slice from a DataFrame\n",
      "\n",
      "See the caveats in the documentation: http://pandas.pydata.org/pandas-docs/stable/indexing.html#indexing-view-versus-copy\n",
      "\n"
     ]
    },
    {
     "data": {
      "text/html": [
       "<div>\n",
       "<table border=\"1\" class=\"dataframe\">\n",
       "  <thead>\n",
       "    <tr style=\"text-align: right;\">\n",
       "      <th></th>\n",
       "      <th>gender</th>\n",
       "      <th>duration</th>\n",
       "      <th>age</th>\n",
       "      <th>hour</th>\n",
       "      <th>date</th>\n",
       "      <th>hum</th>\n",
       "      <th>temp</th>\n",
       "      <th>wind</th>\n",
       "      <th>station</th>\n",
       "    </tr>\n",
       "  </thead>\n",
       "  <tbody>\n",
       "    <tr>\n",
       "      <th>0</th>\n",
       "      <td>1</td>\n",
       "      <td>450</td>\n",
       "      <td>1981.0</td>\n",
       "      <td>0</td>\n",
       "      <td>2016-05-01</td>\n",
       "      <td>43</td>\n",
       "      <td>17</td>\n",
       "      <td>10</td>\n",
       "      <td>One Broadway / Kendall Sq at Main St / 3rd St</td>\n",
       "    </tr>\n",
       "    <tr>\n",
       "      <th>1</th>\n",
       "      <td>1</td>\n",
       "      <td>505</td>\n",
       "      <td>1989.0</td>\n",
       "      <td>0</td>\n",
       "      <td>2016-05-01</td>\n",
       "      <td>43</td>\n",
       "      <td>17</td>\n",
       "      <td>10</td>\n",
       "      <td>MIT Stata Center at Vassar St / Main St</td>\n",
       "    </tr>\n",
       "  </tbody>\n",
       "</table>\n",
       "</div>"
      ],
      "text/plain": [
       "   gender  duration     age  hour        date  hum  temp  wind  \\\n",
       "0       1       450  1981.0     0  2016-05-01   43    17    10   \n",
       "1       1       505  1989.0     0  2016-05-01   43    17    10   \n",
       "\n",
       "                                         station  \n",
       "0  One Broadway / Kendall Sq at Main St / 3rd St  \n",
       "1        MIT Stata Center at Vassar St / Main St  "
      ]
     },
     "execution_count": 36,
     "metadata": {},
     "output_type": "execute_result"
    }
   ],
   "source": [
    "for i in range(0,len(wea)):\n",
    "    date = wea.date[i]\n",
    "    a = np.where(df['date'] == date)[0]\n",
    "    df.temp.iloc[a] = wea.temp_avg[i]\n",
    "    df.hum.iloc[a] = wea.hum_avg[i]\n",
    "    df.wind.iloc[a] = wea.wind_avg[i]\n",
    "df.head(2)    "
   ]
  },
  {
   "cell_type": "code",
   "execution_count": 61,
   "metadata": {
    "collapsed": false
   },
   "outputs": [],
   "source": [
    "binsTemp = pd.cut(df.temp, 6)\n",
    "binsWind = pd.cut(df.wind, 6)\n",
    "binsHum = pd.cut(df.hum, 6)"
   ]
  },
  {
   "cell_type": "code",
   "execution_count": 71,
   "metadata": {
    "collapsed": false
   },
   "outputs": [],
   "source": [
    "binsTemp.sort_values(inplace=True)\n",
    "binsWind.sort_values(inplace=True)\n",
    "binsHum.sort_values(inplace=True)"
   ]
  },
  {
   "cell_type": "code",
   "execution_count": 82,
   "metadata": {
    "collapsed": false
   },
   "outputs": [],
   "source": [
    "t = binsTemp.unique()\n",
    "w = binsWind.unique()\n",
    "h = binsHum.unique()"
   ]
  },
  {
   "cell_type": "code",
   "execution_count": 87,
   "metadata": {
    "collapsed": false
   },
   "outputs": [],
   "source": [
    "tempBin = []\n",
    "windBin = []\n",
    "humBin = []\n",
    "for i in range(0,len(t)):\n",
    "    tempBin.append(len(binsTemp[binsTemp == t[i]]))\n",
    "    windBin.append(len(binsWind[binsWind == w[i]]))\n",
    "    humBin.append(len(binsHum[binsHum == h[i]]))"
   ]
  },
  {
   "cell_type": "code",
   "execution_count": 103,
   "metadata": {
    "collapsed": false
   },
   "outputs": [
    {
     "data": {
      "text/plain": [
       "'(27.5, 38]'"
      ]
     },
     "execution_count": 103,
     "metadata": {},
     "output_type": "execute_result"
    }
   ],
   "source": [
    "t[1]"
   ]
  },
  {
   "cell_type": "code",
   "execution_count": 106,
   "metadata": {
    "collapsed": false
   },
   "outputs": [
    {
     "data": {
      "application/vnd.plotly.v1+json": {
       "data": [
        {
         "marker": {
          "color": "orange"
         },
         "name": "Temperature classes",
         "opacity": 1,
         "text": [
          "(16.937, 27.5]",
          "(27.5, 38]",
          "(38, 48.5]",
          "(48.5, 59]",
          "(59, 69.5]",
          "(69.5, 80]"
         ],
         "type": "bar",
         "visible": true,
         "x": [
          1,
          2,
          3,
          4,
          5,
          6
         ],
         "y": [
          1231,
          10261,
          6008,
          21771,
          37603,
          13801
         ]
        },
        {
         "marker": {
          "color": "red"
         },
         "name": "Wind classes",
         "opacity": 1,
         "text": [
          "(4.985, 7.5]",
          "(7.5, 10]",
          "(10, 12.5]",
          "(12.5, 15]",
          "(15, 17.5]",
          "(17.5, 20]"
         ],
         "type": "bar",
         "visible": false,
         "x": [
          1,
          2,
          3,
          4,
          5,
          6
         ],
         "y": [
          16764,
          47655,
          12227,
          4080,
          1914,
          8035
         ]
        },
        {
         "marker": {
          "color": "green"
         },
         "name": "Humidity classes",
         "opacity": 1,
         "text": [
          "(37.944, 47.333]",
          "(47.333, 56.667]",
          "(56.667, 66]",
          "(66, 75.333]",
          "(75.333, 84.667]",
          "(84.667, 94]"
         ],
         "type": "bar",
         "visible": false,
         "x": [
          1,
          2,
          3,
          4,
          5,
          6
         ],
         "y": [
          8464,
          10413,
          28665,
          15053,
          21726,
          6354
         ]
        }
       ],
       "layout": {
        "title": "Weather characteristics per class",
        "updatemenus": [
         {
          "buttons": [
           {
            "args": [
             "visible",
             [
              true,
              false,
              false
             ]
            ],
            "label": "Temperature class",
            "method": "restyle"
           },
           {
            "args": [
             "visible",
             [
              false,
              true,
              false
             ]
            ],
            "label": "Wind class",
            "method": "restyle"
           },
           {
            "args": [
             "visible",
             [
              false,
              false,
              true
             ]
            ],
            "label": "Humidity class",
            "method": "restyle"
           },
           {
            "args": [
             "visible",
             [
              true,
              true,
              true
             ]
            ],
            "label": "All",
            "method": "restyle"
           }
          ],
          "x": -0.05,
          "y": 1,
          "yanchor": "top"
         }
        ],
        "xaxis": {
         "title": "classes (6 bins)"
        }
       }
      },
      "text/html": [
       "<div id=\"0f4cf9be-9799-4d5d-81e4-fe19dcf86c26\" style=\"height: 525px; width: 100%;\" class=\"plotly-graph-div\"></div><script type=\"text/javascript\">require([\"plotly\"], function(Plotly) { window.PLOTLYENV=window.PLOTLYENV || {};window.PLOTLYENV.BASE_URL=\"https://plot.ly\";Plotly.newPlot(\"0f4cf9be-9799-4d5d-81e4-fe19dcf86c26\", [{\"type\": \"bar\", \"x\": [1, 2, 3, 4, 5, 6], \"y\": [1231, 10261, 6008, 21771, 37603, 13801], \"opacity\": 1, \"marker\": {\"color\": \"orange\"}, \"visible\": true, \"name\": \"Temperature classes\", \"text\": [\"(16.937, 27.5]\", \"(27.5, 38]\", \"(38, 48.5]\", \"(48.5, 59]\", \"(59, 69.5]\", \"(69.5, 80]\"]}, {\"type\": \"bar\", \"x\": [1, 2, 3, 4, 5, 6], \"y\": [16764, 47655, 12227, 4080, 1914, 8035], \"opacity\": 1, \"marker\": {\"color\": \"red\"}, \"visible\": false, \"name\": \"Wind classes\", \"text\": [\"(4.985, 7.5]\", \"(7.5, 10]\", \"(10, 12.5]\", \"(12.5, 15]\", \"(15, 17.5]\", \"(17.5, 20]\"]}, {\"type\": \"bar\", \"x\": [1, 2, 3, 4, 5, 6], \"y\": [8464, 10413, 28665, 15053, 21726, 6354], \"opacity\": 1, \"marker\": {\"color\": \"green\"}, \"visible\": false, \"name\": \"Humidity classes\", \"text\": [\"(37.944, 47.333]\", \"(47.333, 56.667]\", \"(56.667, 66]\", \"(66, 75.333]\", \"(75.333, 84.667]\", \"(84.667, 94]\"]}], {\"xaxis\": {\"title\": \"classes (6 bins)\"}, \"title\": \"Weather characteristics per class\", \"updatemenus\": [{\"x\": -0.05, \"y\": 1, \"yanchor\": \"top\", \"buttons\": [{\"args\": [\"visible\", [true, false, false]], \"label\": \"Temperature class\", \"method\": \"restyle\"}, {\"args\": [\"visible\", [false, true, false]], \"label\": \"Wind class\", \"method\": \"restyle\"}, {\"args\": [\"visible\", [false, false, true]], \"label\": \"Humidity class\", \"method\": \"restyle\"}, {\"args\": [\"visible\", [true, true, true]], \"label\": \"All\", \"method\": \"restyle\"}]}]}, {\"showLink\": true, \"linkText\": \"Export to plot.ly\"})});</script>"
      ]
     },
     "metadata": {},
     "output_type": "display_data"
    }
   ],
   "source": [
    "#temperature\n",
    "trace1 = go.Bar(\n",
    "    x=[1,2,3,4,5,6],\n",
    "    y=tempBin,\n",
    "    opacity=1,\n",
    "    marker=dict(\n",
    "        color='orange'\n",
    "    ),\n",
    "    visible=True,\n",
    "    name=\"Temperature classes\",\n",
    "    text = [t[0],t[1],t[2],t[3],t[4],t[5]]\n",
    ")\n",
    "trace2 = go.Bar(\n",
    "    x=[1,2,3,4,5,6],\n",
    "    y=windBin,\n",
    "    opacity=1,\n",
    "    marker=dict(\n",
    "        color='red'\n",
    "    ),\n",
    "    visible=False,\n",
    "    name=\"Wind classes\",\n",
    "    text = [w[0],w[1],w[2],w[3],w[4],w[5]]\n",
    ")\n",
    "trace3 = go.Bar(\n",
    "    x=[1,2,3,4,5,6],\n",
    "    y=humBin,\n",
    "    opacity=1,\n",
    "    marker=dict(\n",
    "        color='green'\n",
    "    ),\n",
    "    visible=False,\n",
    "    name=\"Humidity classes\",\n",
    "    text = [h[0],h[1],h[2],h[3],h[4],h[5]]\n",
    ")\n",
    "\n",
    "data = [trace1, trace2, trace3]\n",
    "\n",
    "#BUTTONS\n",
    "layout = Layout(\n",
    "    xaxis=dict(\n",
    "    title=\"classes (6 bins)\"),\n",
    "    title='Weather characteristics per class',\n",
    "    updatemenus=list([\n",
    "        dict(\n",
    "            x=-0.05,\n",
    "            y=1,\n",
    "            yanchor='top',\n",
    "            buttons=list([\n",
    "                dict(\n",
    "                    args=['visible', [True, False, False]],\n",
    "                    label='Temperature class',\n",
    "                    method='restyle',\n",
    "                ),\n",
    "                dict(\n",
    "                    args=['visible', [False,True, False]],\n",
    "                    label='Wind class',\n",
    "                    method='restyle',\n",
    "                ),\n",
    "                dict(\n",
    "                    args=['visible', [False, False,True]],\n",
    "                    label='Humidity class',\n",
    "                    method='restyle',\n",
    "                ),\n",
    "                dict(\n",
    "                    args=['visible', [True, True,True]],\n",
    "                    label='All',\n",
    "                    method='restyle',\n",
    "                ),\n",
    "            ]),\n",
    "        )\n",
    "    ]),\n",
    ")\n",
    "\n",
    "fig = go.Figure(data=data, layout=layout)\n",
    "iplot(fig)"
   ]
  },
  {
   "cell_type": "code",
   "execution_count": null,
   "metadata": {
    "collapsed": true
   },
   "outputs": [],
   "source": []
  }
 ],
 "metadata": {
  "kernelspec": {
   "display_name": "Python 3",
   "language": "python",
   "name": "python3"
  },
  "language_info": {
   "codemirror_mode": {
    "name": "ipython",
    "version": 3
   },
   "file_extension": ".py",
   "mimetype": "text/x-python",
   "name": "python",
   "nbconvert_exporter": "python",
   "pygments_lexer": "ipython3",
   "version": "3.6.0"
  }
 },
 "nbformat": 4,
 "nbformat_minor": 2
}

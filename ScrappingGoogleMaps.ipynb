{
 "cells": [
  {
   "cell_type": "markdown",
   "metadata": {},
   "source": [
    "# Google Maps API requests\n",
    "\n",
    "Google Maps module for Python (Help page) [here](https://googlemaps.github.io/google-maps-services-python/docs/2.2/#module-googlemaps)\n",
    "\n",
    "*Google Developers page* for getting the API key [here](https://developers.google.com/maps/)\n",
    "\n",
    "![](https://developers.google.com/_static/1c93cfc82f/images/redesign-14/logo-color-knockout.svg)"
   ]
  },
  {
   "cell_type": "markdown",
   "metadata": {},
   "source": [
    "## Gist\n",
    "\n",
    "Here we want to create a OD matrix with, for each O/D pair the duration of the trip and the distance as Google Maps would return it on a simple route research. We could assume then that these data are, on average, the actual duration and distance people spend from O to D."
   ]
  },
  {
   "cell_type": "markdown",
   "metadata": {},
   "source": [
    "## Steps\n",
    "#### API keys\n",
    "\n",
    "Instead of scrapping the webpage GoogleMaps (which Google does not allow: they will ban your IP adress if they realize you created a scrapping algorithm that block their servers).\n",
    "\n",
    "So we must use their API service on [Google Developers webpage](https://developers.google.com/). \n",
    "\n",
    "First we need to get a API key for the API we want to use. Each Google Maps Web Service request requires an API key or client ID. API keys are freely available with a Google Account at https://developers.google.com/console. The type of API key you need is a Server key.\n",
    "\n",
    "To get an API key:\n",
    "\n",
    "Visit https://developers.google.com/console and log in with a Google Account.\n",
    "+ Select one of your existing projects, or create a new project.\n",
    "+ Enable the API(s) you want to use. The Python Client for Google Maps Services accesses the following APIs:\n",
    " + Directions API\n",
    " + Distance Matrix API\n",
    " + Elevation API\n",
    " + Geocoding API\n",
    " + Geolocation API\n",
    " + Places API\n",
    " + Roads API\n",
    " + Time Zone API\n",
    "+ Create a new Server key.\n",
    "\n",
    "The information provided by each key is given on both the google developer page and the help page (link given before).\n",
    "\n",
    "#### Installation\n",
    "\n",
    "Second you need to install the google map package for python on your machine. From a Jupyter Notebook this is you line you want:\n",
    "\n",
    "```python\n",
    "import pip\n",
    "!pip install -U googlemaps\n",
    "```\n",
    "\n",
    "#### To know before creating your algorithm\n",
    "\n",
    "Here the challenge is to build big data skims. For instance I had 200x200 OD matrix, assuming the duration of the trip depend on the direction of this trip, it is 40'000 API requests required to populate my OD mat. The problem is, if you use free Google Maps API requests, you have a daily threshold of request: 2500 requests per day and per API key, and you can have up to 12 keys on a single account ie. you can request max 30'000 information per day. So I needed to run my algorithm on two diferent days to populate my entire OD mat.\n",
    "\n",
    "So I created 10 keys, and I loop over my API keys to not being blocked. You can also get a paying plan [here](https://developers.google.com/maps/pricing-and-plans/). Do the simultation, It's can be super expensive!\n",
    "\n",
    "#### Go ahead!\n",
    "\n",
    "You can now take a look to the script I created to populate two OD mat in the same api request. I used the Distance Matrix API, with mode \"driving\" and the desired departure time during morning peak of a random weekday \"datetime.datetime(2017, 4, 3, 8, 30, 0, 0)\". The Distance MAtrix API returns a lot of info (see help page) but I juste wanted (a) the distance and (b) the duration. Since I requestes at 0830 in the morning, I will get the expected trip duration in trafic conditions."
   ]
  },
  {
   "cell_type": "markdown",
   "metadata": {},
   "source": [
    "## Example of API requests GoogleMaps\n",
    "\n",
    "You probably don't need to import all those guys but these are the regular packages I import to be sure I can manimulate all my data easily"
   ]
  },
  {
   "cell_type": "code",
   "execution_count": 3,
   "metadata": {
    "collapsed": false
   },
   "outputs": [],
   "source": [
    "%matplotlib inline\n",
    "\n",
    "#import csv\n",
    "import pandas as pd\n",
    "import matplotlib.pyplot as plt\n",
    "import numpy as np\n",
    "import matplotlib.dates as mdates\n",
    "import datetime\n",
    "import googlemaps\n",
    "import time"
   ]
  },
  {
   "cell_type": "markdown",
   "metadata": {},
   "source": [
    "Here created a list of my 10 API keys:"
   ]
  },
  {
   "cell_type": "code",
   "execution_count": 15,
   "metadata": {
    "collapsed": true
   },
   "outputs": [],
   "source": [
    "APIs = ['AzaSyD8Q5hmpe-tJT5isTDkgYYrZI8NgFPB8OA',\n",
    "   'AIzaSyDNkenufD2hVjB-107ocTmOSBURFznVW0',\n",
    "   'AIzaSyAr4-I44Fa-6_i1VLb8YWWAspvq6VyfpI',\n",
    "   'AIzaSyARy1J5bklWzo5n-f4v5JWLwTawwAyNcY',\n",
    "   'AIzaSyDdDDI4tYoYEOqNlARFTzdMilMIaLt71o',\n",
    "   'AIzaSyAlsP8elaG4LO8pKDYSK5mckvyAuH3Z_4',\n",
    "   'AIzaSyCTwFxOclF_gAd3oHSjJV6QADouptnmFE',\n",
    "   'AIzaSyB0gyr_sfKxXSe-E0-NEY6dZtCB2x4sKc',\n",
    "   'AIzaSyD6Ttf-zZ8tpwBX2A5dWAXzKk-XWAnZ14',\n",
    "   'AIzaSyDZNtnITEhr2z_HlBgRfcfsJlnc4KNb5k']"
   ]
  },
  {
   "cell_type": "markdown",
   "metadata": {},
   "source": [
    "Here I load an empty matrix with the station as index and columns:"
   ]
  },
  {
   "cell_type": "code",
   "execution_count": 8,
   "metadata": {
    "collapsed": false
   },
   "outputs": [],
   "source": [
    "googleDurTraf = pd.read_csv('data/GoogleMapsScrap/google_empty.csv', index_col=[0])\n",
    "googleDist = pd.read_csv('data/GoogleMapsScrap/google_empty.csv', index_col=[0])"
   ]
  },
  {
   "cell_type": "code",
   "execution_count": 9,
   "metadata": {
    "collapsed": false
   },
   "outputs": [
    {
     "data": {
      "text/html": [
       "<div>\n",
       "<table border=\"1\" class=\"dataframe\">\n",
       "  <thead>\n",
       "    <tr style=\"text-align: right;\">\n",
       "      <th></th>\n",
       "      <th>Porter Square Station</th>\n",
       "      <th>MIT Stata Center at Vassar St / Main St</th>\n",
       "      <th>One Kendall Square at Hampshire St / Portland St</th>\n",
       "      <th>Lower Cambridgeport at Magazine St/Riverside Rd</th>\n",
       "      <th>Inman Square at Vellucci Plaza / Hampshire St</th>\n",
       "      <th>Central Square at Mass Ave / Essex St</th>\n",
       "      <th>Binney St / Sixth St</th>\n",
       "      <th>MIT at Mass Ave / Amherst St</th>\n",
       "      <th>Lafayette Square at Mass Ave / Main St / Columbia St</th>\n",
       "      <th>Lechmere Station at Cambridge St / First St</th>\n",
       "      <th>...</th>\n",
       "      <th>Watermark Seaport</th>\n",
       "      <th>Sidney Research Campus/ Erie Street at Waverly</th>\n",
       "      <th>Third at Binney</th>\n",
       "      <th>Central Square East Boston - Porter Street at London Street</th>\n",
       "      <th>Surface Rd at India St</th>\n",
       "      <th>Chinatown Gate Plaza</th>\n",
       "      <th>Copley Square - Dartmouth St at Boylston St</th>\n",
       "      <th>Congress St at North St</th>\n",
       "      <th>South Station - 700 Atlantic Ave</th>\n",
       "      <th>Rowes Wharf at Atlantic Ave</th>\n",
       "    </tr>\n",
       "    <tr>\n",
       "      <th>station_name</th>\n",
       "      <th></th>\n",
       "      <th></th>\n",
       "      <th></th>\n",
       "      <th></th>\n",
       "      <th></th>\n",
       "      <th></th>\n",
       "      <th></th>\n",
       "      <th></th>\n",
       "      <th></th>\n",
       "      <th></th>\n",
       "      <th></th>\n",
       "      <th></th>\n",
       "      <th></th>\n",
       "      <th></th>\n",
       "      <th></th>\n",
       "      <th></th>\n",
       "      <th></th>\n",
       "      <th></th>\n",
       "      <th></th>\n",
       "      <th></th>\n",
       "      <th></th>\n",
       "    </tr>\n",
       "  </thead>\n",
       "  <tbody>\n",
       "    <tr>\n",
       "      <th>Porter Square Station</th>\n",
       "      <td>0</td>\n",
       "      <td>0</td>\n",
       "      <td>0</td>\n",
       "      <td>0</td>\n",
       "      <td>0</td>\n",
       "      <td>0</td>\n",
       "      <td>0</td>\n",
       "      <td>0</td>\n",
       "      <td>0</td>\n",
       "      <td>0</td>\n",
       "      <td>...</td>\n",
       "      <td>0</td>\n",
       "      <td>0</td>\n",
       "      <td>0</td>\n",
       "      <td>0</td>\n",
       "      <td>0</td>\n",
       "      <td>0</td>\n",
       "      <td>0</td>\n",
       "      <td>0</td>\n",
       "      <td>0</td>\n",
       "      <td>0</td>\n",
       "    </tr>\n",
       "    <tr>\n",
       "      <th>MIT Stata Center at Vassar St / Main St</th>\n",
       "      <td>0</td>\n",
       "      <td>0</td>\n",
       "      <td>0</td>\n",
       "      <td>0</td>\n",
       "      <td>0</td>\n",
       "      <td>0</td>\n",
       "      <td>0</td>\n",
       "      <td>0</td>\n",
       "      <td>0</td>\n",
       "      <td>0</td>\n",
       "      <td>...</td>\n",
       "      <td>0</td>\n",
       "      <td>0</td>\n",
       "      <td>0</td>\n",
       "      <td>0</td>\n",
       "      <td>0</td>\n",
       "      <td>0</td>\n",
       "      <td>0</td>\n",
       "      <td>0</td>\n",
       "      <td>0</td>\n",
       "      <td>0</td>\n",
       "    </tr>\n",
       "  </tbody>\n",
       "</table>\n",
       "<p>2 rows × 198 columns</p>\n",
       "</div>"
      ],
      "text/plain": [
       "                                         Porter Square Station  \\\n",
       "station_name                                                     \n",
       "Porter Square Station                                        0   \n",
       "MIT Stata Center at Vassar St / Main St                      0   \n",
       "\n",
       "                                         MIT Stata Center at Vassar St / Main St  \\\n",
       "station_name                                                                       \n",
       "Porter Square Station                                                          0   \n",
       "MIT Stata Center at Vassar St / Main St                                        0   \n",
       "\n",
       "                                         One Kendall Square at Hampshire St / Portland St  \\\n",
       "station_name                                                                                \n",
       "Porter Square Station                                                                   0   \n",
       "MIT Stata Center at Vassar St / Main St                                                 0   \n",
       "\n",
       "                                         Lower Cambridgeport at Magazine St/Riverside Rd  \\\n",
       "station_name                                                                               \n",
       "Porter Square Station                                                                  0   \n",
       "MIT Stata Center at Vassar St / Main St                                                0   \n",
       "\n",
       "                                         Inman Square at Vellucci Plaza / Hampshire St  \\\n",
       "station_name                                                                             \n",
       "Porter Square Station                                                                0   \n",
       "MIT Stata Center at Vassar St / Main St                                              0   \n",
       "\n",
       "                                         Central Square at Mass Ave / Essex St  \\\n",
       "station_name                                                                     \n",
       "Porter Square Station                                                        0   \n",
       "MIT Stata Center at Vassar St / Main St                                      0   \n",
       "\n",
       "                                         Binney St / Sixth St  \\\n",
       "station_name                                                    \n",
       "Porter Square Station                                       0   \n",
       "MIT Stata Center at Vassar St / Main St                     0   \n",
       "\n",
       "                                         MIT at Mass Ave / Amherst St  \\\n",
       "station_name                                                            \n",
       "Porter Square Station                                               0   \n",
       "MIT Stata Center at Vassar St / Main St                             0   \n",
       "\n",
       "                                         Lafayette Square at Mass Ave / Main St / Columbia St  \\\n",
       "station_name                                                                                    \n",
       "Porter Square Station                                                                    0      \n",
       "MIT Stata Center at Vassar St / Main St                                                  0      \n",
       "\n",
       "                                         Lechmere Station at Cambridge St / First St  \\\n",
       "station_name                                                                           \n",
       "Porter Square Station                                                              0   \n",
       "MIT Stata Center at Vassar St / Main St                                            0   \n",
       "\n",
       "                                                    ...               \\\n",
       "station_name                                        ...                \n",
       "Porter Square Station                               ...                \n",
       "MIT Stata Center at Vassar St / Main St             ...                \n",
       "\n",
       "                                         Watermark Seaport  \\\n",
       "station_name                                                 \n",
       "Porter Square Station                                    0   \n",
       "MIT Stata Center at Vassar St / Main St                  0   \n",
       "\n",
       "                                         Sidney Research Campus/ Erie Street at Waverly  \\\n",
       "station_name                                                                              \n",
       "Porter Square Station                                                                 0   \n",
       "MIT Stata Center at Vassar St / Main St                                               0   \n",
       "\n",
       "                                         Third at Binney  \\\n",
       "station_name                                               \n",
       "Porter Square Station                                  0   \n",
       "MIT Stata Center at Vassar St / Main St                0   \n",
       "\n",
       "                                         Central Square East Boston - Porter Street at London Street  \\\n",
       "station_name                                                                                           \n",
       "Porter Square Station                                                                    0             \n",
       "MIT Stata Center at Vassar St / Main St                                                  0             \n",
       "\n",
       "                                         Surface Rd at India St  \\\n",
       "station_name                                                      \n",
       "Porter Square Station                                         0   \n",
       "MIT Stata Center at Vassar St / Main St                       0   \n",
       "\n",
       "                                         Chinatown Gate Plaza  \\\n",
       "station_name                                                    \n",
       "Porter Square Station                                       0   \n",
       "MIT Stata Center at Vassar St / Main St                     0   \n",
       "\n",
       "                                         Copley Square - Dartmouth St at Boylston St  \\\n",
       "station_name                                                                           \n",
       "Porter Square Station                                                              0   \n",
       "MIT Stata Center at Vassar St / Main St                                            0   \n",
       "\n",
       "                                         Congress St at North St  \\\n",
       "station_name                                                       \n",
       "Porter Square Station                                          0   \n",
       "MIT Stata Center at Vassar St / Main St                        0   \n",
       "\n",
       "                                         South Station - 700 Atlantic Ave  \\\n",
       "station_name                                                                \n",
       "Porter Square Station                                                   0   \n",
       "MIT Stata Center at Vassar St / Main St                                 0   \n",
       "\n",
       "                                         Rowes Wharf at Atlantic Ave  \n",
       "station_name                                                          \n",
       "Porter Square Station                                              0  \n",
       "MIT Stata Center at Vassar St / Main St                            0  \n",
       "\n",
       "[2 rows x 198 columns]"
      ]
     },
     "execution_count": 9,
     "metadata": {},
     "output_type": "execute_result"
    }
   ],
   "source": [
    "googleDurTraf.head(2)"
   ]
  },
  {
   "cell_type": "markdown",
   "metadata": {},
   "source": [
    "Since I can only have 2500 request per key, and I have 200 columns, I can do 12 rows per key"
   ]
  },
  {
   "cell_type": "code",
   "execution_count": 13,
   "metadata": {
    "collapsed": true
   },
   "outputs": [],
   "source": [
    "# Just a range that returns the number of stations I have:\n",
    "lat = range(0,len(googleDurTraf))"
   ]
  },
  {
   "cell_type": "markdown",
   "metadata": {},
   "source": [
    "Here is my loop. I obtain error at the end of each loop because I'm out of range either on my APY list or in my OD mat. You  could script exceptions, didn't took the time."
   ]
  },
  {
   "cell_type": "code",
   "execution_count": 17,
   "metadata": {
    "collapsed": false
   },
   "outputs": [
    {
     "ename": "IndexError",
     "evalue": "list index out of range",
     "output_type": "error",
     "traceback": [
      "\u001b[0;31m---------------------------------------------------------------------------\u001b[0m",
      "\u001b[0;31mIndexError\u001b[0m                                Traceback (most recent call last)",
      "\u001b[0;32m<ipython-input-17-9377a3b1c667>\u001b[0m in \u001b[0;36m<module>\u001b[0;34m()\u001b[0m\n\u001b[1;32m      9\u001b[0m         \u001b[0;32mfor\u001b[0m \u001b[0mi\u001b[0m \u001b[0;32min\u001b[0m \u001b[0mrange\u001b[0m\u001b[0;34m(\u001b[0m\u001b[0ma\u001b[0m\u001b[0;34m,\u001b[0m\u001b[0mb\u001b[0m\u001b[0;34m)\u001b[0m\u001b[0;34m:\u001b[0m\u001b[0;34m\u001b[0m\u001b[0m\n\u001b[1;32m     10\u001b[0m             \u001b[0;32mfor\u001b[0m \u001b[0mj\u001b[0m \u001b[0;32min\u001b[0m \u001b[0mrange\u001b[0m\u001b[0;34m(\u001b[0m\u001b[0;36m0\u001b[0m\u001b[0;34m,\u001b[0m\u001b[0mlen\u001b[0m\u001b[0;34m(\u001b[0m\u001b[0mlat\u001b[0m\u001b[0;34m)\u001b[0m\u001b[0;34m)\u001b[0m\u001b[0;34m:\u001b[0m\u001b[0;34m\u001b[0m\u001b[0m\n\u001b[0;32m---> 11\u001b[0;31m                 googleData = gm.distance_matrix(origins = origin[i], destinations = destination[j],  mode='driving',\n\u001b[0m\u001b[1;32m     12\u001b[0m                                 departure_time= datetime.datetime(2017, 4, 3, 8, 30, 0, 0))\n\u001b[1;32m     13\u001b[0m                 \u001b[0mgoogleDur\u001b[0m\u001b[0;34m.\u001b[0m\u001b[0miloc\u001b[0m\u001b[0;34m[\u001b[0m\u001b[0mi\u001b[0m\u001b[0;34m,\u001b[0m\u001b[0mj\u001b[0m\u001b[0;34m]\u001b[0m \u001b[0;34m=\u001b[0m \u001b[0mgoogleData\u001b[0m\u001b[0;34m[\u001b[0m\u001b[0;34m'rows'\u001b[0m\u001b[0;34m]\u001b[0m\u001b[0;34m[\u001b[0m\u001b[0;36m0\u001b[0m\u001b[0;34m]\u001b[0m\u001b[0;34m[\u001b[0m\u001b[0;34m'elements'\u001b[0m\u001b[0;34m]\u001b[0m\u001b[0;34m[\u001b[0m\u001b[0;36m0\u001b[0m\u001b[0;34m]\u001b[0m\u001b[0;34m[\u001b[0m\u001b[0;34m'duration'\u001b[0m\u001b[0;34m]\u001b[0m\u001b[0;34m[\u001b[0m\u001b[0;34m'value'\u001b[0m\u001b[0;34m]\u001b[0m\u001b[0;34m\u001b[0m\u001b[0m\n",
      "\u001b[0;31mIndexError\u001b[0m: list index out of range"
     ]
    }
   ],
   "source": [
    "#help: https://googlemaps.github.io/google-maps-services-python/docs/2.2/#module-googlemaps\n",
    "lat = rang\n",
    "a = 0\n",
    "b = a + 12\n",
    "\n",
    "while b <= len(lat):\n",
    "    for c in range(0,len(APIs)):\n",
    "        gm = googlemaps.Client(key=APIs[c])#dur\n",
    "        for i in range(a,b):\n",
    "            for j in range(0,len(lat)):\n",
    "                googleData = gm.distance_matrix(origins = origin[i], destinations = destination[j],  mode='driving',\n",
    "                                departure_time= datetime.datetime(2017, 4, 3, 8, 30, 0, 0))\n",
    "                #the api returns a dictionary, I just want a specific data in this dict:\n",
    "                googleDur.iloc[i,j] = googleData['rows'][0]['elements'][0]['duration']['value']\n",
    "                googleDurTraf.iloc[i,j] = googleData['rows'][0]['elements'][0]['duration_in_traffic']['value']\n",
    "        # I save to_csv in each loop just to be sure to save some data... Probably make it slower. ~30minutes.     \n",
    "        googleDur.to_csv(path_or_buf= 'data/GoogleMapsScrap/googleDur_driving.csv')\n",
    "        googleDurTraf.to_csv(path_or_buf= 'data/GoogleMapsScrap/googleDur_driving_traffic.csv')\n",
    "        if b == len(lat):\n",
    "            b = len(lat) + 100\n",
    "        else:\n",
    "            a += 12\n",
    "            b += 12\n",
    "            if b > len(lat):\n",
    "                b = len(lat)"
   ]
  },
  {
   "cell_type": "markdown",
   "metadata": {},
   "source": [
    "FYI, This is the dict you obtain from the API request:"
   ]
  },
  {
   "cell_type": "code",
   "execution_count": 111,
   "metadata": {
    "collapsed": false
   },
   "outputs": [
    {
     "data": {
      "text/plain": [
       "{'destination_addresses': ['32 Albany St, Cambridge, MA 02139, USA'],\n",
       " 'origin_addresses': ['55 Garden St, Cambridge, MA 02138, USA'],\n",
       " 'rows': [{'elements': [{'distance': {'text': '4.1 km', 'value': 4088},\n",
       "     'duration': {'text': '14 mins', 'value': 855},\n",
       "     'duration_in_traffic': {'text': '17 mins', 'value': 1021},\n",
       "     'status': 'OK'}]}],\n",
       " 'status': 'OK'}"
      ]
     },
     "execution_count": 111,
     "metadata": {},
     "output_type": "execute_result"
    }
   ],
   "source": [
    "googleData"
   ]
  },
  {
   "cell_type": "code",
   "execution_count": null,
   "metadata": {
    "collapsed": true
   },
   "outputs": [],
   "source": []
  }
 ],
 "metadata": {
  "kernelspec": {
   "display_name": "Python 3",
   "language": "python",
   "name": "python3"
  },
  "language_info": {
   "codemirror_mode": {
    "name": "ipython",
    "version": 3
   },
   "file_extension": ".py",
   "mimetype": "text/x-python",
   "name": "python",
   "nbconvert_exporter": "python",
   "pygments_lexer": "ipython3",
   "version": "3.6.0"
  }
 },
 "nbformat": 4,
 "nbformat_minor": 2
}
